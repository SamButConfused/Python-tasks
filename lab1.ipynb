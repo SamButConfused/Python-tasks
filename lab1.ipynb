{
 "cells": [
  {
   "cell_type": "code",
   "execution_count": 7,
   "id": "32db54af-8101-4fa6-897a-3b5f2d4cc974",
   "metadata": {},
   "outputs": [],
   "source": [
    "import math\n",
    "\n",
    "def is_prime(n):\n",
    "    \"\"\"Check if a number is prime.\"\"\"\n",
    "    if n <= 1:\n",
    "        return False\n",
    "    for i in range(2, int(math.sqrt(n)) + 1):\n",
    "        if n % i == 0:\n",
    "            return False\n",
    "    return True\n",
    "\n",
    "def goldbach(n):\n",
    "    \"\"\"Implement Goldbach's conjecture for an even number with input validation.\"\"\"\n",
    "    # Input validation\n",
    "    if not isinstance(n, int):\n",
    "        return \"Error: Input must be an integer.\"\n",
    "    if n <= 2 or n % 2 != 0:\n",
    "        return \"Error: Input must be an even integer greater than 2.\"\n",
    "    \n",
    "    # Goldbach's conjecture logic\n",
    "    for i in range(2, n):\n",
    "        if is_prime(i) and is_prime(n - i):\n",
    "            return f'{n} can be expressed as {i} + {n - i}'\n",
    "    return f\"No valid pair of primes found for {n}\""
   ]
  },
  {
   "cell_type": "code",
   "execution_count": 17,
   "id": "f5af0a25-11dc-46da-ac37-150a565b2c9e",
   "metadata": {},
   "outputs": [
    {
     "name": "stdout",
     "output_type": "stream",
     "text": [
      "6 can be expressed as 3 + 3\n"
     ]
    }
   ],
   "source": [
    "print(goldbach(6)) "
   ]
  },
  {
   "cell_type": "code",
   "execution_count": 15,
   "id": "1351db07-c73a-4edb-9fe7-becaf82abec3",
   "metadata": {},
   "outputs": [
    {
     "name": "stdout",
     "output_type": "stream",
     "text": [
      "28 can be expressed as 5 + 23\n"
     ]
    }
   ],
   "source": [
    "print(goldbach(28))  "
   ]
  },
  {
   "cell_type": "code",
   "execution_count": 19,
   "id": "74ece7dd-a29d-4dbe-bada-cdeccfebaffa",
   "metadata": {},
   "outputs": [
    {
     "name": "stdout",
     "output_type": "stream",
     "text": [
      "46 can be expressed as 3 + 43\n"
     ]
    }
   ],
   "source": [
    "print(goldbach(46))"
   ]
  },
  {
   "cell_type": "code",
   "execution_count": 13,
   "id": "b2be13ca-e08f-4db7-974b-db188f4eb432",
   "metadata": {},
   "outputs": [
    {
     "name": "stdout",
     "output_type": "stream",
     "text": [
      "Error: Input must be an even integer greater than 2.\n"
     ]
    }
   ],
   "source": [
    "print(goldbach(7)) "
   ]
  },
  {
   "cell_type": "code",
   "execution_count": 21,
   "id": "7b6d57b7-7690-4334-b014-7660c266f6fc",
   "metadata": {},
   "outputs": [
    {
     "name": "stdout",
     "output_type": "stream",
     "text": [
      "88 can be expressed as 5 + 83\n"
     ]
    }
   ],
   "source": [
    "print(goldbach(88)) "
   ]
  },
  {
   "cell_type": "code",
   "execution_count": 11,
   "id": "e1329bdd-8c26-4a96-b90a-1650a93b2a6a",
   "metadata": {},
   "outputs": [
    {
     "name": "stdout",
     "output_type": "stream",
     "text": [
      "Error: Input must be an integer.\n"
     ]
    }
   ],
   "source": [
    "print(goldbach(\"10\"))"
   ]
  },
  {
   "cell_type": "code",
   "execution_count": 9,
   "id": "2f5899b3-420d-47b4-9598-fbe6268af580",
   "metadata": {},
   "outputs": [
    {
     "name": "stdout",
     "output_type": "stream",
     "text": [
      "Error: Input must be an even integer greater than 2.\n"
     ]
    }
   ],
   "source": [
    "print(goldbach(2)) "
   ]
  },
  {
   "cell_type": "code",
   "execution_count": 23,
   "id": "2f5dc2ba-d737-4db3-b897-d3d954f79337",
   "metadata": {},
   "outputs": [],
   "source": [
    "x=5"
   ]
  },
  {
   "cell_type": "code",
   "execution_count": 27,
   "id": "daddef33-0a89-494f-956d-3d201cab85d7",
   "metadata": {},
   "outputs": [
    {
     "name": "stdout",
     "output_type": "stream",
     "text": [
      "5\n"
     ]
    }
   ],
   "source": [
    "print(x)"
   ]
  },
  {
   "cell_type": "code",
   "execution_count": null,
   "id": "cf92d429-2ec1-4490-9282-ac031bebbb26",
   "metadata": {},
   "outputs": [],
   "source": []
  }
 ],
 "metadata": {
  "kernelspec": {
   "display_name": "Python 3 (ipykernel)",
   "language": "python",
   "name": "python3"
  },
  "language_info": {
   "codemirror_mode": {
    "name": "ipython",
    "version": 3
   },
   "file_extension": ".py",
   "mimetype": "text/x-python",
   "name": "python",
   "nbconvert_exporter": "python",
   "pygments_lexer": "ipython3",
   "version": "3.12.4"
  }
 },
 "nbformat": 4,
 "nbformat_minor": 5
}
